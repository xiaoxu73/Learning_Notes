{
 "cells": [
  {
   "cell_type": "code",
   "execution_count": null,
   "id": "initial_id",
   "metadata": {
    "collapsed": true
   },
   "outputs": [],
   "source": [
    "# !Python=3.12 -m venv venv # 创建虚拟环境\n",
    "# !source venv/bin/activate # 激活虚拟环境\n",
    "# !deactivate # 退出虚拟环境"
   ]
  },
  {
   "metadata": {},
   "cell_type": "code",
   "outputs": [],
   "execution_count": null,
   "source": [
    "# !pip list # 列出当前虚拟环境安装的包\n",
    "# !pip frzeeze # 打印当前虚拟环境安装的包\n",
    "# !pip freeze> requirements.txt # 创建requirements.txt文件，存储当前虚拟环境安装的包，缺陷是freeze分不清哪些包是间接依赖的，把直接依赖的包卸载后，会残留间接依赖的包，产生孤儿依赖，使用pyproject.toml配置文件可以解决这个问题\n",
    "# !pip install -r requirements.txt # 安装requirements.txt文件中的包"
   ],
   "id": "59a4a65c7a2c7558"
  }
 ],
 "metadata": {
  "kernelspec": {
   "display_name": "Python 3",
   "language": "python",
   "name": "python3"
  },
  "language_info": {
   "codemirror_mode": {
    "name": "ipython",
    "version": 2
   },
   "file_extension": ".py",
   "mimetype": "text/x-python",
   "name": "python",
   "nbconvert_exporter": "python",
   "pygments_lexer": "ipython2",
   "version": "2.7.6"
  }
 },
 "nbformat": 4,
 "nbformat_minor": 5
}
