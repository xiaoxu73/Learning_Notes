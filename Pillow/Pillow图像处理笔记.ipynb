{
 "cells": [
  {
   "metadata": {
    "collapsed": true
   },
   "cell_type": "markdown",
   "source": [
    "# Pillow图像处理笔记\n",
    "*pillow是python的图像处理库*"
   ],
   "id": "41a42431ab1368b2"
  },
  {
   "metadata": {
    "ExecuteTime": {
     "end_time": "2025-09-26T06:31:48.638653Z",
     "start_time": "2025-09-26T06:31:48.629632Z"
    }
   },
   "cell_type": "code",
   "source": [
    "from PIL import Image\n",
    "from PIL.Image import blend\n",
    "\n",
    "# 打开图片\n",
    "img1 = Image.open('./image/0_0.jpg').convert('RGB')\n",
    "img2 = Image.open('./image/0_1.jpg').convert('RGB')\n",
    "\n",
    "# 新建图片\n",
    "img = Image.new(mode='RGB', size=img1.size, color=(255,255,255))\n",
    "# 显示图片\n",
    "# img.show()\n",
    "\n",
    "print(type(img)) # 图片类型\n",
    "print(img.format) # 图片格式\n",
    "print(img.size) # 图片大小\n",
    "print(img.width, img.height) # 获取图片宽高\n",
    "print(img.getpixel(xy=(0,0))) # 获取图片指定点的像素值"
   ],
   "id": "457d153258d7e0e2",
   "outputs": [
    {
     "name": "stdout",
     "output_type": "stream",
     "text": [
      "<class 'PIL.Image.Image'>\n",
      "None\n",
      "(512, 512)\n",
      "512 512\n",
      "(255, 255, 255)\n"
     ]
    }
   ],
   "execution_count": 60
  },
  {
   "metadata": {
    "ExecuteTime": {
     "end_time": "2025-09-26T06:31:53.258779Z",
     "start_time": "2025-09-26T06:31:53.141430Z"
    }
   },
   "cell_type": "code",
   "source": [
    "# 透明度混合\n",
    "blend(img1, img, alpha=0.4).show() # alpha取值范围0-1，0时显示img1，1时显示img2\n",
    "\n",
    "# img2 = img2.resize((100, 100)) # 改变图片大小\n",
    "# print(img2.size)\n",
    "\n",
    "img.thumbnail((50, 50)) # 缩放图片，原地修改图片\n",
    "img.show()"
   ],
   "id": "4746d624f854a115",
   "outputs": [],
   "execution_count": 61
  },
  {
   "metadata": {},
   "cell_type": "code",
   "source": [
    "imgb = img1.copy() # 复制图片\n",
    "Image.eval(imgb, lambda x: x/2).show() # eval方法会对每一个像素值调用传入的函数"
   ],
   "id": "99ddf7689daa77c5",
   "outputs": [],
   "execution_count": null
  },
  {
   "metadata": {
    "ExecuteTime": {
     "end_time": "2025-09-26T06:32:25.796409Z",
     "start_time": "2025-09-26T06:32:25.638031Z"
    }
   },
   "cell_type": "code",
   "source": [
    "region = img1.crop((0, 0, 100, 100)) # 裁剪图片\n",
    "img2.paste(region, (10, 10)) # 粘贴图片\n",
    "img2.show()\n",
    "img1.paste(img, (20, 20))\n",
    "img1.show()"
   ],
   "id": "345ce06418720b10",
   "outputs": [],
   "execution_count": 64
  },
  {
   "metadata": {
    "ExecuteTime": {
     "end_time": "2025-09-26T06:36:57.657455Z",
     "start_time": "2025-09-26T06:36:57.448918Z"
    }
   },
   "cell_type": "code",
   "source": [
    "# 图片旋转\n",
    "img1.rotate(45, fillcolor=(255,255,255)).show()\n",
    "img1.transpose(Image.FLIP_LEFT_RIGHT).show() # 左右翻转\n",
    "img1.transpose(Image.FLIP_TOP_BOTTOM).show() ## 上下翻转"
   ],
   "id": "b6180ac125b9c0f0",
   "outputs": [],
   "execution_count": 68
  },
  {
   "metadata": {
    "ExecuteTime": {
     "end_time": "2025-09-26T06:41:01.812271Z",
     "start_time": "2025-09-26T06:41:01.749911Z"
    }
   },
   "cell_type": "code",
   "source": [
    "# 图片分离\n",
    "r1, g1, b1 = img1.split() # 将图片拆分为RGB\n",
    "r2, g2, b2 = img2.split()\n",
    "# 图片合并\n",
    "Image.merge('RGB', (r1, g2, b1)).show()"
   ],
   "id": "d7fc3595e11dcbbf",
   "outputs": [],
   "execution_count": 70
  },
  {
   "metadata": {
    "ExecuteTime": {
     "end_time": "2025-09-26T06:59:02.233228Z",
     "start_time": "2025-09-26T06:59:01.925338Z"
    }
   },
   "cell_type": "code",
   "source": [
    "# 图像滤镜\n",
    "from PIL import ImageFilter\n",
    "\n",
    "bg = Image.new('RGB', size=(img1.width*2, img1.height))\n",
    "bg.paste(img1, (0, 0))\n",
    "\n",
    "filter_list = []\n",
    "filter1 = ImageFilter.FIND_EDGES # 模糊\n",
    "filter_list.append(filter1)\n",
    "filter2 = ImageFilter.GaussianBlur(radius=2) # 高斯模糊\n",
    "filter_list.append(filter2)\n",
    "\n",
    "# 同时显示原图和模糊后的图片\n",
    "for filter in filter_list:\n",
    "    bg.paste(img1.filter(filter), (img1.width, 0))\n",
    "    bg.show()"
   ],
   "id": "15eae93fe621f3b8",
   "outputs": [],
   "execution_count": 77
  }
 ],
 "metadata": {
  "kernelspec": {
   "display_name": "Python 3",
   "language": "python",
   "name": "python3"
  },
  "language_info": {
   "codemirror_mode": {
    "name": "ipython",
    "version": 2
   },
   "file_extension": ".py",
   "mimetype": "text/x-python",
   "name": "python",
   "nbconvert_exporter": "python",
   "pygments_lexer": "ipython2",
   "version": "2.7.6"
  }
 },
 "nbformat": 4,
 "nbformat_minor": 5
}
