{
 "cells": [
  {
   "cell_type": "code",
   "id": "da92a771-541d-48e8-bb0c-99ba1f53c09c",
   "metadata": {},
   "source": [
    "# !conda create -n XXXX python=3.xx\n",
    "# !conda env list   #查看conda环境\n",
    "# !conda activate ML_homework    #激活conda环境\n",
    "# #jupyter将环境注册为内核，--name是内核的ID（不能有空格），--display-name是自定义的内核显示名称\n",
    "# !python -m ipykernel install --user --name ML_homework --display-name \"python(ML_hoemwork)\"\n",
    "# !jupyter kernelspec list   #jupyter查看以及注册的内核\n",
    "# !jupyter kernelspec uninstall env   #jupyter删除某个内核"
   ],
   "outputs": [],
   "execution_count": null
  },
  {
   "cell_type": "code",
   "id": "ce75509a",
   "metadata": {},
   "source": [
    "# # 查看当前conda源配置\n",
    "# !conda config --show channels\n",
    "# !conda config --show-sources\n",
    "# # 移除所有源\n",
    "# !conda config --remove-key channels\n",
    "# # 移除指定的源\n",
    "# !conda config --remove channels https://****\n",
    "# # 恢复默认源\n",
    "# !conda config --prepend channels defaults\n",
    "# # 添加清华源\n",
    "# !conda config --add channels https://mirrors.tuna.tsinghua.edu.cn/anaconda/pkgs/main\n",
    "# !conda config --add channels https://mirrors.tuna.tsinghua.edu.cn/anaconda/cloud/conda-forge\n",
    "# !conda config --set show_channel_urls yes\n",
    "\n",
    "# 临时用清华的 conda-forge 镜像装 XXX\n",
    "#!conda install XXX -c https://mirrors.tuna.tsinghua.edu.cn/anaconda/cloud/conda-forge\n",
    "# 临时用官方 conda-forge\n",
    "# !conda install XXX -c conda-forge\n",
    "# 同时指定多个源（前者优先）\n",
    "# !conda install XXX -c conda-forge -c https://mirrors.tuna.tsinghua.edu.cn/anaconda/cloud/conda-forge\n"
   ],
   "outputs": [],
   "execution_count": null
  }
 ],
 "metadata": {
  "kernelspec": {
   "display_name": "Python 3 (ipykernel)",
   "language": "python",
   "name": "python3"
  },
  "language_info": {
   "codemirror_mode": {
    "name": "ipython",
    "version": 3
   },
   "file_extension": ".py",
   "mimetype": "text/x-python",
   "name": "python",
   "nbconvert_exporter": "python",
   "pygments_lexer": "ipython3",
   "version": "3.9.7"
  }
 },
 "nbformat": 4,
 "nbformat_minor": 5
}
